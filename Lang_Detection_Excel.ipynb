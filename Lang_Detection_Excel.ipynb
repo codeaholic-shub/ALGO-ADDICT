{
  "nbformat": 4,
  "nbformat_minor": 0,
  "metadata": {
    "colab": {
      "provenance": [],
      "authorship_tag": "ABX9TyMg9m1TioHMTzqq2e8l1efK",
      "include_colab_link": true
    },
    "kernelspec": {
      "name": "python3",
      "display_name": "Python 3"
    },
    "language_info": {
      "name": "python"
    }
  },
  "cells": [
    {
      "cell_type": "markdown",
      "metadata": {
        "id": "view-in-github",
        "colab_type": "text"
      },
      "source": [
        "<a href=\"https://colab.research.google.com/github/codeaholic-shub/ALGO-ADDICT/blob/main/Lang_Detection_Excel.ipynb\" target=\"_parent\"><img src=\"https://colab.research.google.com/assets/colab-badge.svg\" alt=\"Open In Colab\"/></a>"
      ]
    },
    {
      "cell_type": "code",
      "execution_count": 1,
      "metadata": {
        "colab": {
          "base_uri": "https://localhost:8080/",
          "height": 0
        },
        "id": "TkVAzyxwMNQu",
        "outputId": "f7155d87-fd50-4281-cbf2-349315780181"
      },
      "outputs": [
        {
          "output_type": "stream",
          "name": "stdout",
          "text": [
            "Collecting langdetect\n",
            "  Downloading langdetect-1.0.9.tar.gz (981 kB)\n",
            "\u001b[2K     \u001b[90m━━━━━━━━━━━━━━━━━━━━━━━━━━━━━━━━━━━━━━━━\u001b[0m \u001b[32m981.5/981.5 kB\u001b[0m \u001b[31m6.4 MB/s\u001b[0m eta \u001b[36m0:00:00\u001b[0m\n",
            "\u001b[?25h  Preparing metadata (setup.py) ... \u001b[?25l\u001b[?25hdone\n",
            "Requirement already satisfied: six in /usr/local/lib/python3.10/dist-packages (from langdetect) (1.16.0)\n",
            "Building wheels for collected packages: langdetect\n",
            "  Building wheel for langdetect (setup.py) ... \u001b[?25l\u001b[?25hdone\n",
            "  Created wheel for langdetect: filename=langdetect-1.0.9-py3-none-any.whl size=993227 sha256=9fb365e3e3161d30422b6c7327b3ef59c03d73117b80717140c5145def2f408a\n",
            "  Stored in directory: /root/.cache/pip/wheels/95/03/7d/59ea870c70ce4e5a370638b5462a7711ab78fba2f655d05106\n",
            "Successfully built langdetect\n",
            "Installing collected packages: langdetect\n",
            "Successfully installed langdetect-1.0.9\n"
          ]
        }
      ],
      "source": [
        "!pip install langdetect"
      ]
    },
    {
      "cell_type": "code",
      "source": [
        "from langdetect import detect\n",
        "detect(\"War doesn't show who's right, just who's left.\")"
      ],
      "metadata": {
        "colab": {
          "base_uri": "https://localhost:8080/",
          "height": 35
        },
        "id": "D9Kx3KGQOXqb",
        "outputId": "98579b88-9661-48c1-d0fc-710fa83bc223"
      },
      "execution_count": 2,
      "outputs": [
        {
          "output_type": "execute_result",
          "data": {
            "text/plain": [
              "'en'"
            ],
            "application/vnd.google.colaboratory.intrinsic+json": {
              "type": "string"
            }
          },
          "metadata": {},
          "execution_count": 2
        }
      ]
    },
    {
      "cell_type": "code",
      "source": [
        "import pandas as pd"
      ],
      "metadata": {
        "id": "kE_xrRomPIcN"
      },
      "execution_count": 3,
      "outputs": []
    },
    {
      "cell_type": "code",
      "source": [
        "df = pd.read_excel('/content/Book.xlsx')"
      ],
      "metadata": {
        "id": "mBLq3xNQOfYY"
      },
      "execution_count": 4,
      "outputs": []
    },
    {
      "cell_type": "code",
      "source": [
        "df.head()"
      ],
      "metadata": {
        "colab": {
          "base_uri": "https://localhost:8080/",
          "height": 206
        },
        "id": "BwjLni2wPLbS",
        "outputId": "959049fa-d4ed-4e33-eada-316227f23a98"
      },
      "execution_count": 5,
      "outputs": [
        {
          "output_type": "execute_result",
          "data": {
            "text/plain": [
              "                        ANSWER\n",
              "0          Hello, How Are You?\n",
              "1               Olá, como vai?\n",
              "2  Bonjour comment allez-vous?\n",
              "3         नमस्ते, आप कैसे हैं?\n",
              "4           ¿Hola, cómo estás?"
            ],
            "text/html": [
              "\n",
              "  <div id=\"df-eeb94829-dc9d-4d88-a265-0cf665ee3632\" class=\"colab-df-container\">\n",
              "    <div>\n",
              "<style scoped>\n",
              "    .dataframe tbody tr th:only-of-type {\n",
              "        vertical-align: middle;\n",
              "    }\n",
              "\n",
              "    .dataframe tbody tr th {\n",
              "        vertical-align: top;\n",
              "    }\n",
              "\n",
              "    .dataframe thead th {\n",
              "        text-align: right;\n",
              "    }\n",
              "</style>\n",
              "<table border=\"1\" class=\"dataframe\">\n",
              "  <thead>\n",
              "    <tr style=\"text-align: right;\">\n",
              "      <th></th>\n",
              "      <th>ANSWER</th>\n",
              "    </tr>\n",
              "  </thead>\n",
              "  <tbody>\n",
              "    <tr>\n",
              "      <th>0</th>\n",
              "      <td>Hello, How Are You?</td>\n",
              "    </tr>\n",
              "    <tr>\n",
              "      <th>1</th>\n",
              "      <td>Olá, como vai?</td>\n",
              "    </tr>\n",
              "    <tr>\n",
              "      <th>2</th>\n",
              "      <td>Bonjour comment allez-vous?</td>\n",
              "    </tr>\n",
              "    <tr>\n",
              "      <th>3</th>\n",
              "      <td>नमस्ते, आप कैसे हैं?</td>\n",
              "    </tr>\n",
              "    <tr>\n",
              "      <th>4</th>\n",
              "      <td>¿Hola, cómo estás?</td>\n",
              "    </tr>\n",
              "  </tbody>\n",
              "</table>\n",
              "</div>\n",
              "    <div class=\"colab-df-buttons\">\n",
              "\n",
              "  <div class=\"colab-df-container\">\n",
              "    <button class=\"colab-df-convert\" onclick=\"convertToInteractive('df-eeb94829-dc9d-4d88-a265-0cf665ee3632')\"\n",
              "            title=\"Convert this dataframe to an interactive table.\"\n",
              "            style=\"display:none;\">\n",
              "\n",
              "  <svg xmlns=\"http://www.w3.org/2000/svg\" height=\"24px\" viewBox=\"0 -960 960 960\">\n",
              "    <path d=\"M120-120v-720h720v720H120Zm60-500h600v-160H180v160Zm220 220h160v-160H400v160Zm0 220h160v-160H400v160ZM180-400h160v-160H180v160Zm440 0h160v-160H620v160ZM180-180h160v-160H180v160Zm440 0h160v-160H620v160Z\"/>\n",
              "  </svg>\n",
              "    </button>\n",
              "\n",
              "  <style>\n",
              "    .colab-df-container {\n",
              "      display:flex;\n",
              "      gap: 12px;\n",
              "    }\n",
              "\n",
              "    .colab-df-convert {\n",
              "      background-color: #E8F0FE;\n",
              "      border: none;\n",
              "      border-radius: 50%;\n",
              "      cursor: pointer;\n",
              "      display: none;\n",
              "      fill: #1967D2;\n",
              "      height: 32px;\n",
              "      padding: 0 0 0 0;\n",
              "      width: 32px;\n",
              "    }\n",
              "\n",
              "    .colab-df-convert:hover {\n",
              "      background-color: #E2EBFA;\n",
              "      box-shadow: 0px 1px 2px rgba(60, 64, 67, 0.3), 0px 1px 3px 1px rgba(60, 64, 67, 0.15);\n",
              "      fill: #174EA6;\n",
              "    }\n",
              "\n",
              "    .colab-df-buttons div {\n",
              "      margin-bottom: 4px;\n",
              "    }\n",
              "\n",
              "    [theme=dark] .colab-df-convert {\n",
              "      background-color: #3B4455;\n",
              "      fill: #D2E3FC;\n",
              "    }\n",
              "\n",
              "    [theme=dark] .colab-df-convert:hover {\n",
              "      background-color: #434B5C;\n",
              "      box-shadow: 0px 1px 3px 1px rgba(0, 0, 0, 0.15);\n",
              "      filter: drop-shadow(0px 1px 2px rgba(0, 0, 0, 0.3));\n",
              "      fill: #FFFFFF;\n",
              "    }\n",
              "  </style>\n",
              "\n",
              "    <script>\n",
              "      const buttonEl =\n",
              "        document.querySelector('#df-eeb94829-dc9d-4d88-a265-0cf665ee3632 button.colab-df-convert');\n",
              "      buttonEl.style.display =\n",
              "        google.colab.kernel.accessAllowed ? 'block' : 'none';\n",
              "\n",
              "      async function convertToInteractive(key) {\n",
              "        const element = document.querySelector('#df-eeb94829-dc9d-4d88-a265-0cf665ee3632');\n",
              "        const dataTable =\n",
              "          await google.colab.kernel.invokeFunction('convertToInteractive',\n",
              "                                                    [key], {});\n",
              "        if (!dataTable) return;\n",
              "\n",
              "        const docLinkHtml = 'Like what you see? Visit the ' +\n",
              "          '<a target=\"_blank\" href=https://colab.research.google.com/notebooks/data_table.ipynb>data table notebook</a>'\n",
              "          + ' to learn more about interactive tables.';\n",
              "        element.innerHTML = '';\n",
              "        dataTable['output_type'] = 'display_data';\n",
              "        await google.colab.output.renderOutput(dataTable, element);\n",
              "        const docLink = document.createElement('div');\n",
              "        docLink.innerHTML = docLinkHtml;\n",
              "        element.appendChild(docLink);\n",
              "      }\n",
              "    </script>\n",
              "  </div>\n",
              "\n",
              "\n",
              "<div id=\"df-28e05a2f-581c-4381-91b0-bfbfa6f81dba\">\n",
              "  <button class=\"colab-df-quickchart\" onclick=\"quickchart('df-28e05a2f-581c-4381-91b0-bfbfa6f81dba')\"\n",
              "            title=\"Suggest charts\"\n",
              "            style=\"display:none;\">\n",
              "\n",
              "<svg xmlns=\"http://www.w3.org/2000/svg\" height=\"24px\"viewBox=\"0 0 24 24\"\n",
              "     width=\"24px\">\n",
              "    <g>\n",
              "        <path d=\"M19 3H5c-1.1 0-2 .9-2 2v14c0 1.1.9 2 2 2h14c1.1 0 2-.9 2-2V5c0-1.1-.9-2-2-2zM9 17H7v-7h2v7zm4 0h-2V7h2v10zm4 0h-2v-4h2v4z\"/>\n",
              "    </g>\n",
              "</svg>\n",
              "  </button>\n",
              "\n",
              "<style>\n",
              "  .colab-df-quickchart {\n",
              "      --bg-color: #E8F0FE;\n",
              "      --fill-color: #1967D2;\n",
              "      --hover-bg-color: #E2EBFA;\n",
              "      --hover-fill-color: #174EA6;\n",
              "      --disabled-fill-color: #AAA;\n",
              "      --disabled-bg-color: #DDD;\n",
              "  }\n",
              "\n",
              "  [theme=dark] .colab-df-quickchart {\n",
              "      --bg-color: #3B4455;\n",
              "      --fill-color: #D2E3FC;\n",
              "      --hover-bg-color: #434B5C;\n",
              "      --hover-fill-color: #FFFFFF;\n",
              "      --disabled-bg-color: #3B4455;\n",
              "      --disabled-fill-color: #666;\n",
              "  }\n",
              "\n",
              "  .colab-df-quickchart {\n",
              "    background-color: var(--bg-color);\n",
              "    border: none;\n",
              "    border-radius: 50%;\n",
              "    cursor: pointer;\n",
              "    display: none;\n",
              "    fill: var(--fill-color);\n",
              "    height: 32px;\n",
              "    padding: 0;\n",
              "    width: 32px;\n",
              "  }\n",
              "\n",
              "  .colab-df-quickchart:hover {\n",
              "    background-color: var(--hover-bg-color);\n",
              "    box-shadow: 0 1px 2px rgba(60, 64, 67, 0.3), 0 1px 3px 1px rgba(60, 64, 67, 0.15);\n",
              "    fill: var(--button-hover-fill-color);\n",
              "  }\n",
              "\n",
              "  .colab-df-quickchart-complete:disabled,\n",
              "  .colab-df-quickchart-complete:disabled:hover {\n",
              "    background-color: var(--disabled-bg-color);\n",
              "    fill: var(--disabled-fill-color);\n",
              "    box-shadow: none;\n",
              "  }\n",
              "\n",
              "  .colab-df-spinner {\n",
              "    border: 2px solid var(--fill-color);\n",
              "    border-color: transparent;\n",
              "    border-bottom-color: var(--fill-color);\n",
              "    animation:\n",
              "      spin 1s steps(1) infinite;\n",
              "  }\n",
              "\n",
              "  @keyframes spin {\n",
              "    0% {\n",
              "      border-color: transparent;\n",
              "      border-bottom-color: var(--fill-color);\n",
              "      border-left-color: var(--fill-color);\n",
              "    }\n",
              "    20% {\n",
              "      border-color: transparent;\n",
              "      border-left-color: var(--fill-color);\n",
              "      border-top-color: var(--fill-color);\n",
              "    }\n",
              "    30% {\n",
              "      border-color: transparent;\n",
              "      border-left-color: var(--fill-color);\n",
              "      border-top-color: var(--fill-color);\n",
              "      border-right-color: var(--fill-color);\n",
              "    }\n",
              "    40% {\n",
              "      border-color: transparent;\n",
              "      border-right-color: var(--fill-color);\n",
              "      border-top-color: var(--fill-color);\n",
              "    }\n",
              "    60% {\n",
              "      border-color: transparent;\n",
              "      border-right-color: var(--fill-color);\n",
              "    }\n",
              "    80% {\n",
              "      border-color: transparent;\n",
              "      border-right-color: var(--fill-color);\n",
              "      border-bottom-color: var(--fill-color);\n",
              "    }\n",
              "    90% {\n",
              "      border-color: transparent;\n",
              "      border-bottom-color: var(--fill-color);\n",
              "    }\n",
              "  }\n",
              "</style>\n",
              "\n",
              "  <script>\n",
              "    async function quickchart(key) {\n",
              "      const quickchartButtonEl =\n",
              "        document.querySelector('#' + key + ' button');\n",
              "      quickchartButtonEl.disabled = true;  // To prevent multiple clicks.\n",
              "      quickchartButtonEl.classList.add('colab-df-spinner');\n",
              "      try {\n",
              "        const charts = await google.colab.kernel.invokeFunction(\n",
              "            'suggestCharts', [key], {});\n",
              "      } catch (error) {\n",
              "        console.error('Error during call to suggestCharts:', error);\n",
              "      }\n",
              "      quickchartButtonEl.classList.remove('colab-df-spinner');\n",
              "      quickchartButtonEl.classList.add('colab-df-quickchart-complete');\n",
              "    }\n",
              "    (() => {\n",
              "      let quickchartButtonEl =\n",
              "        document.querySelector('#df-28e05a2f-581c-4381-91b0-bfbfa6f81dba button');\n",
              "      quickchartButtonEl.style.display =\n",
              "        google.colab.kernel.accessAllowed ? 'block' : 'none';\n",
              "    })();\n",
              "  </script>\n",
              "</div>\n",
              "\n",
              "    </div>\n",
              "  </div>\n"
            ],
            "application/vnd.google.colaboratory.intrinsic+json": {
              "type": "dataframe",
              "variable_name": "df",
              "summary": "{\n  \"name\": \"df\",\n  \"rows\": 5,\n  \"fields\": [\n    {\n      \"column\": \"ANSWER\",\n      \"properties\": {\n        \"dtype\": \"string\",\n        \"num_unique_values\": 5,\n        \"samples\": [\n          \"Ol\\u00e1, como vai?\",\n          \"\\u00bfHola, c\\u00f3mo est\\u00e1s?\",\n          \"Bonjour comment allez-vous?\"\n        ],\n        \"semantic_type\": \"\",\n        \"description\": \"\"\n      }\n    }\n  ]\n}"
            }
          },
          "metadata": {},
          "execution_count": 5
        }
      ]
    },
    {
      "cell_type": "code",
      "source": [
        "newList = df['ANSWER'].to_list()"
      ],
      "metadata": {
        "id": "VdbIX2lEPNIh"
      },
      "execution_count": 7,
      "outputs": []
    },
    {
      "cell_type": "code",
      "source": [
        "print(newList)"
      ],
      "metadata": {
        "colab": {
          "base_uri": "https://localhost:8080/",
          "height": 0
        },
        "id": "oXvY9MaSPViZ",
        "outputId": "d6c347f0-b6f9-4812-fb28-dbe5fdfcf606"
      },
      "execution_count": 9,
      "outputs": [
        {
          "output_type": "stream",
          "name": "stdout",
          "text": [
            "['Hello, How Are You?', 'Olá, como vai?', 'Bonjour comment allez-vous?', 'नमस्ते, आप कैसे हैं?', '¿Hola, cómo estás?']\n"
          ]
        }
      ]
    },
    {
      "cell_type": "code",
      "source": [
        "print(newList[0])"
      ],
      "metadata": {
        "colab": {
          "base_uri": "https://localhost:8080/",
          "height": 0
        },
        "id": "FOIjABlOPkLE",
        "outputId": "acf5d01f-3011-4e71-eb31-ea734e48d9ab"
      },
      "execution_count": 10,
      "outputs": [
        {
          "output_type": "stream",
          "name": "stdout",
          "text": [
            "Hello, How Are You?\n"
          ]
        }
      ]
    },
    {
      "cell_type": "code",
      "source": [
        "l = len(newList)"
      ],
      "metadata": {
        "id": "BeC2DQC_PpOd"
      },
      "execution_count": 11,
      "outputs": []
    },
    {
      "cell_type": "code",
      "source": [
        "print(l)"
      ],
      "metadata": {
        "colab": {
          "base_uri": "https://localhost:8080/",
          "height": 0
        },
        "id": "yF36zp5DPtTz",
        "outputId": "4607b6d7-6e36-43b6-b6d4-9504e2e911f0"
      },
      "execution_count": 12,
      "outputs": [
        {
          "output_type": "stream",
          "name": "stdout",
          "text": [
            "5\n"
          ]
        }
      ]
    },
    {
      "cell_type": "code",
      "source": [
        "def fun(text):\n",
        "  return detect(text)\n",
        "for i in range(l):\n",
        "  print(fun(newList[i]))"
      ],
      "metadata": {
        "colab": {
          "base_uri": "https://localhost:8080/",
          "height": 0
        },
        "id": "8mmnl4iKPuzo",
        "outputId": "d0eb09d3-860d-4289-8074-4b9f567c5741"
      },
      "execution_count": 13,
      "outputs": [
        {
          "output_type": "stream",
          "name": "stdout",
          "text": [
            "en\n",
            "pt\n",
            "fr\n",
            "hi\n",
            "es\n"
          ]
        }
      ]
    },
    {
      "cell_type": "code",
      "source": [
        "thisdict = {\n",
        "    \"af\": \"AFRIKAANS\",\n",
        "    \"ar\": \"ARABIC\",\n",
        "    \"bg\": \"BULGARIAN\",\n",
        "    \"bn\": \"BENGALI\",\n",
        "    \"ca\": \"CATALAN\",\n",
        "    \"cs\": \"CZECH\",\n",
        "    \"cy\": \"WELSH\",\n",
        "    \"da\": \"DANISH\",\n",
        "    \"de\": \"GERMAN\",\n",
        "    \"el\": \"GREEK\",\n",
        "    \"en\": \"ENGLISH\",\n",
        "    \"es\": \"SPANISH\",\n",
        "    \"et\": \"ESTONIAN\",\n",
        "    \"fa\": \"PERSIAN\",\n",
        "    \"fi\": \"FINNISH\",\n",
        "    \"fr\": \"FRENCH\",\n",
        "    \"gu\": \"GUJARATI\",\n",
        "    \"he\": \"HEBREW\",\n",
        "    \"hi\": \"HINDI\",\n",
        "    \"hr\": \"CROATIAN\",\n",
        "    \"hu\": \"HUNGARIAN\",\n",
        "    \"id\": \"INDONESIAN\",\n",
        "    \"it\": \"ITALIAN\",\n",
        "    \"ja\": \"JAPANESE\",\n",
        "    \"kn\": \"KANNADA\",\n",
        "    \"ko\": \"KOREAN\",\n",
        "    \"lt\": \"LITHUANIAN\",\n",
        "    \"lv\": \"LATVIAN\",\n",
        "    \"mk\": \"MACEDONIAN\",\n",
        "    \"ml\": \"MALAYALAM\",\n",
        "    \"mr\": \"MARATHI\",\n",
        "    \"ne\": \"NEPALI\",\n",
        "    \"nl\": \"DUTCH\",\n",
        "    \"no\": \"NORWEGIAN\",\n",
        "    \"pa\": \"PUNJABI\",\n",
        "    \"pl\": \"POLISH\",\n",
        "    \"pt\": \"PORTUGUESE\",\n",
        "    \"ro\": \"ROMANIAN\",\n",
        "    \"ru\": \"RUSSIAN\",\n",
        "    \"sk\": \"SLOVAK\",\n",
        "    \"sl\": \"SLOVENIAN\",\n",
        "    \"so\": \"SOMALI\",\n",
        "    \"sq\": \"ALBANIAN\",\n",
        "    \"sv\": \"SWEDISH\",\n",
        "    \"sw\": \"SWAHILI\",\n",
        "    \"ta\": \"TAMIL\",\n",
        "    \"te\": \"TELUGU\",\n",
        "    \"th\": \"THAI\",\n",
        "    \"tl\": \"TAGALOG\",\n",
        "    \"tr\": \"TURKISH\",\n",
        "    \"uk\": \"UKRAINIAN\",\n",
        "    \"ur\": \"URDU\",\n",
        "    \"vi\": \"VIETNAMESE\",\n",
        "    \"zh-cn\": \"CHINESE (SIMPLIFIED)\",\n",
        "    \"zh-tw\": \"CHINESE (TRADITIONAL)\"\n",
        "}"
      ],
      "metadata": {
        "id": "9SR3NQcnQMZx"
      },
      "execution_count": 17,
      "outputs": []
    },
    {
      "cell_type": "code",
      "source": [
        "def fun(text):\n",
        "  return thisdict[detect(text)]\n",
        "for i in range(l):\n",
        "  print(fun(newList[i]))"
      ],
      "metadata": {
        "colab": {
          "base_uri": "https://localhost:8080/",
          "height": 0
        },
        "id": "lYO1liLqShFH",
        "outputId": "b1ded153-5ead-4f87-d506-2aca4d6b8cb1"
      },
      "execution_count": 18,
      "outputs": [
        {
          "output_type": "stream",
          "name": "stdout",
          "text": [
            "ENGLISH\n",
            "PORTUGUESE\n",
            "FRENCH\n",
            "HINDI\n",
            "SPANISH\n"
          ]
        }
      ]
    },
    {
      "cell_type": "code",
      "source": [
        "import numpy as np\n",
        "c1=[]\n",
        "c2=[]\n",
        "df['c1']=np.nan\n",
        "df['c2']=np.nan"
      ],
      "metadata": {
        "id": "nhR8IlylStuh"
      },
      "execution_count": 23,
      "outputs": []
    },
    {
      "cell_type": "code",
      "source": [
        "def fun(text):\n",
        "  return thisdict[detect(text)]\n",
        "for i in range(l):\n",
        "  if(fun(newList[i])=='ENGLISH'):\n",
        "    df['c1'][i]='ENGLISH'\n",
        "  else:\n",
        "    df['c1'][i]='NON-ENGLISH'"
      ],
      "metadata": {
        "id": "rjjYS65uTh8N"
      },
      "execution_count": 25,
      "outputs": []
    },
    {
      "cell_type": "code",
      "source": [
        "df['c1']"
      ],
      "metadata": {
        "colab": {
          "base_uri": "https://localhost:8080/",
          "height": 0
        },
        "id": "4BYaIOveUU9m",
        "outputId": "9d93e48e-05f8-4690-92b8-88dbdcc15550"
      },
      "execution_count": 26,
      "outputs": [
        {
          "output_type": "execute_result",
          "data": {
            "text/plain": [
              "0        ENGLISH\n",
              "1    NON-ENGLISH\n",
              "2    NON-ENGLISH\n",
              "3    NON-ENGLISH\n",
              "4    NON-ENGLISH\n",
              "Name: c1, dtype: object"
            ]
          },
          "metadata": {},
          "execution_count": 26
        }
      ]
    },
    {
      "cell_type": "code",
      "source": [
        "def fun(text):\n",
        "  return thisdict[detect(text)]\n",
        "for i in range(l):\n",
        "  df['c2'][i]=fun(newList[i])"
      ],
      "metadata": {
        "colab": {
          "base_uri": "https://localhost:8080/",
          "height": 0
        },
        "id": "3XL-SAWYUq84",
        "outputId": "fe16c2d8-2728-4caa-8960-dc31d47a534f"
      },
      "execution_count": 28,
      "outputs": [
        {
          "output_type": "stream",
          "name": "stderr",
          "text": [
            "<ipython-input-28-a1694be2637f>:4: SettingWithCopyWarning: \n",
            "A value is trying to be set on a copy of a slice from a DataFrame\n",
            "\n",
            "See the caveats in the documentation: https://pandas.pydata.org/pandas-docs/stable/user_guide/indexing.html#returning-a-view-versus-a-copy\n",
            "  df['c2'][i]=fun(newList[i])\n"
          ]
        }
      ]
    },
    {
      "cell_type": "code",
      "source": [
        "df['c2']"
      ],
      "metadata": {
        "colab": {
          "base_uri": "https://localhost:8080/",
          "height": 0
        },
        "id": "gr-sDqXrU5m2",
        "outputId": "6e0335b4-4443-4b79-d55a-8839122eaa16"
      },
      "execution_count": 29,
      "outputs": [
        {
          "output_type": "execute_result",
          "data": {
            "text/plain": [
              "0       ENGLISH\n",
              "1    PORTUGUESE\n",
              "2        FRENCH\n",
              "3         HINDI\n",
              "4       SPANISH\n",
              "Name: c2, dtype: object"
            ]
          },
          "metadata": {},
          "execution_count": 29
        }
      ]
    },
    {
      "cell_type": "code",
      "source": [
        "df.to_excel('Output.xlsx')"
      ],
      "metadata": {
        "id": "2MiYZKljVL6L"
      },
      "execution_count": 30,
      "outputs": []
    },
    {
      "cell_type": "code",
      "source": [],
      "metadata": {
        "id": "pu40NU6AVQVd"
      },
      "execution_count": null,
      "outputs": []
    }
  ]
}